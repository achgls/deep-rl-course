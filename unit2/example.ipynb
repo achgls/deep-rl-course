{
 "cells": [
  {
   "cell_type": "code",
   "execution_count": 40,
   "metadata": {
    "collapsed": true,
    "pycharm": {
     "name": "#%%\n"
    }
   },
   "outputs": [],
   "source": [
    "import gym\n",
    "from qlearning import QLearningAgent, QLearningTaxi\n",
    "from IPython.display import display, HTML\n",
    "from PIL import Image"
   ]
  },
  {
   "cell_type": "markdown",
   "source": [
    "The `QLearningTaxi` class is a subclass of the general `QLearningAgent` which makes use of the `action_mask` returned by the step function of the `Taxi-v3` environment to prune the actions it chooses from at any timestep."
   ],
   "metadata": {
    "collapsed": false,
    "pycharm": {
     "name": "#%% md\n"
    }
   }
  },
  {
   "cell_type": "markdown",
   "source": [
    "\n",
    "## Frozen lake\n",
    "### Non-slippery 4x4"
   ],
   "metadata": {
    "collapsed": false,
    "pycharm": {
     "name": "#%% md\n"
    }
   }
  },
  {
   "cell_type": "code",
   "execution_count": 41,
   "outputs": [
    {
     "data": {
      "text/plain": "<PIL.Image.Image image mode=RGB size=256x256>",
      "image/png": "[encoded data removed]"
     },
     "metadata": {},
     "output_type": "display_data"
    }
   ],
   "source": [
    "lake_4 = gym.make(\"FrozenLake-v1\", map_name=\"4x4\", is_slippery=False, render_mode=\"rgb_array\")\n",
    "ql_lake_4 = QLearningAgent(\n",
    "    env=lake_4,\n",
    "    lr=0.3,\n",
    "    gamma=0.99,\n",
    "    max_timesteps=50,\n",
    "    jitter_sigma=0.001,\n",
    "    eps_range=[1.0, 0.05],\n",
    "    eps_schedule=\"exponential\",\n",
    "    eps_decay_rate=0.003,\n",
    ")\n",
    "lake_4.reset()\n",
    "display(Image.fromarray(lake_4.render()))"
   ],
   "metadata": {
    "collapsed": false,
    "pycharm": {
     "name": "#%%\n"
    }
   }
  },
  {
   "cell_type": "code",
   "execution_count": 42,
   "outputs": [
    {
     "data": {
      "text/plain": "  0%|          | 0/300 [00:00<?, ?it/s]",
      "application/vnd.jupyter.widget-view+json": {
       "version_major": 2,
       "version_minor": 0,
       "model_id": "2c6cbf1724c24933bc99c9c6af26257f"
      }
     },
     "metadata": {},
     "output_type": "display_data"
    },
    {
     "name": "stderr",
     "output_type": "stream",
     "text": [
      "C:\\Users\\Achille\\.conda\\envs\\deepRL\\lib\\site-packages\\gym\\utils\\passive_env_checker.py:233: DeprecationWarning: `np.bool8` is a deprecated alias for `np.bool_`.  (Deprecated NumPy 1.24)\n",
      "  if not isinstance(terminated, (bool, np.bool8)):\n"
     ]
    },
    {
     "name": "stdout",
     "output_type": "stream",
     "text": [
      "Epsilon: 0.85793\n",
      "Saving current Q-Table as checkpoint 'cp_391'\n",
      "Current reward = 0.00 +- 0.00\n",
      "Epsilon: 0.73826\n",
      "Saving current Q-Table as checkpoint 'cp_788'\n",
      "Current reward = 1.00 +- 0.00\n",
      "Epsilon: 0.63529\n",
      "Saving current Q-Table as checkpoint 'cp_1163'\n",
      "Current reward = 1.00 +- 0.00\n",
      "Epsilon: 0.54667\n",
      "Saving current Q-Table as checkpoint 'cp_1579'\n",
      "Current reward = 1.00 +- 0.00\n",
      "Epsilon: 0.47042\n",
      "Saving current Q-Table as checkpoint 'cp_1965'\n",
      "Current reward = 1.00 +- 0.00\n",
      "Training is over.\n",
      "Saving current Q-Table as checkpoint 'cp_2333'\n",
      "Current reward = 1.00 +- 0.00\n"
     ]
    }
   ],
   "source": [
    "ql_lake_4.train(num_episodes=300, episodes_per_checkpoint=50, seed=1234, resume=False)"
   ],
   "metadata": {
    "collapsed": false,
    "pycharm": {
     "name": "#%%\n"
    }
   }
  },
  {
   "cell_type": "code",
   "execution_count": 43,
   "outputs": [
    {
     "data": {
      "text/plain": "<IPython.core.display.HTML object>",
      "text/html": "\n    <video alt=\"test\" controls>\n        <source src=\"replays/frozen_lake/non_slippery4x4.mp4\" type=\"video/mp4\">\n    </video>\n"
     },
     "execution_count": 43,
     "metadata": {},
     "output_type": "execute_result"
    }
   ],
   "source": [
    "video_path = \"replays/frozen_lake/non_slippery4x4.mp4\"\n",
    "ql_lake_4.record_video(out_path=video_path, fps=2)\n",
    "HTML(f\"\"\"\n",
    "    <video alt=\"test\" controls>\n",
    "        <source src=\"{video_path}\" type=\"video/mp4\">\n",
    "    </video>\n",
    "\"\"\")"
   ],
   "metadata": {
    "collapsed": false,
    "pycharm": {
     "name": "#%%\n"
    }
   }
  },
  {
   "cell_type": "markdown",
   "source": [
    "### Slippery 4x4"
   ],
   "metadata": {
    "collapsed": false,
    "pycharm": {
     "name": "#%% md\n"
    }
   }
  },
  {
   "cell_type": "code",
   "execution_count": 44,
   "outputs": [],
   "source": [
    "lake_slippery_4 = gym.make(\"FrozenLake-v1\", map_name=\"4x4\", is_slippery=True, render_mode=\"rgb_array\")\n",
    "ql_lake_slippery_4 = QLearningAgent(\n",
    "    env=lake_slippery_4,\n",
    "    lr=0.1,\n",
    "    gamma=0.97,\n",
    "    max_timesteps=500,\n",
    "    jitter_sigma=1e-5,\n",
    "    eps_range=[1.0, 0.05],\n",
    "    eps_schedule=\"exponential\",\n",
    "    eps_decay_rate=0.0005,\n",
    ")"
   ],
   "metadata": {
    "collapsed": false,
    "pycharm": {
     "name": "#%%\n"
    }
   }
  },
  {
   "cell_type": "code",
   "execution_count": 45,
   "outputs": [
    {
     "data": {
      "text/plain": "  0%|          | 0/5000 [00:00<?, ?it/s]",
      "application/vnd.jupyter.widget-view+json": {
       "version_major": 2,
       "version_minor": 0,
       "model_id": "9374eb81779949a7a5b21acfac5e9513"
      }
     },
     "metadata": {},
     "output_type": "display_data"
    },
    {
     "name": "stdout",
     "output_type": "stream",
     "text": [
      "Epsilon: 0.81828\n",
      "Saving current Q-Table as checkpoint 'cp_3323'\n",
      "Current reward = 0.12 +- 0.32\n",
      "Epsilon: 0.66992\n",
      "Saving current Q-Table as checkpoint 'cp_6743'\n",
      "Current reward = 0.24 +- 0.43\n",
      "Epsilon: 0.54845\n",
      "Saving current Q-Table as checkpoint 'cp_11346'\n",
      "Current reward = 0.37 +- 0.48\n",
      "Epsilon: 0.44901\n",
      "Saving current Q-Table as checkpoint 'cp_16178'\n",
      "Current reward = 0.79 +- 0.41\n",
      "Epsilon: 0.36760\n",
      "Saving current Q-Table as checkpoint 'cp_21424'\n",
      "Current reward = 0.81 +- 0.39\n",
      "Epsilon: 0.30095\n",
      "Saving current Q-Table as checkpoint 'cp_27703'\n",
      "Current reward = 0.64 +- 0.48\n",
      "Epsilon: 0.24639\n",
      "Saving current Q-Table as checkpoint 'cp_34771'\n",
      "Current reward = 0.88 +- 0.32\n",
      "Epsilon: 0.20171\n",
      "Saving current Q-Table as checkpoint 'cp_42614'\n",
      "Current reward = 0.70 +- 0.46\n",
      "Epsilon: 0.16514\n",
      "Saving current Q-Table as checkpoint 'cp_51105'\n",
      "Current reward = 0.75 +- 0.43\n",
      "Epsilon: 0.13520\n",
      "Saving current Q-Table as checkpoint 'cp_60979'\n",
      "Current reward = 0.25 +- 0.43\n",
      "Epsilon: 0.11069\n",
      "Saving current Q-Table as checkpoint 'cp_70821'\n",
      "Current reward = 0.59 +- 0.49\n",
      "Epsilon: 0.09062\n",
      "Saving current Q-Table as checkpoint 'cp_81628'\n",
      "Current reward = 0.71 +- 0.45\n",
      "Training is over.\n",
      "Saving current Q-Table as checkpoint 'cp_86404'\n",
      "Current reward = 0.64 +- 0.48\n"
     ]
    }
   ],
   "source": [
    "ql_lake_slippery_4.train(num_episodes=5_000, episodes_per_checkpoint=400, seed=1234, resume=False)"
   ],
   "metadata": {
    "collapsed": false,
    "pycharm": {
     "name": "#%%\n"
    }
   }
  },
  {
   "cell_type": "code",
   "execution_count": 46,
   "outputs": [
    {
     "data": {
      "text/plain": "<IPython.core.display.HTML object>",
      "text/html": "\n    <video alt=\"test\" controls>\n        <source src=\"replays/frozen_lake/slippery4x4.mp4\" type=\"video/mp4\">\n    </video>\n"
     },
     "execution_count": 46,
     "metadata": {},
     "output_type": "execute_result"
    }
   ],
   "source": [
    "video_path = \"replays/frozen_lake/slippery4x4.mp4\"\n",
    "ql_lake_slippery_4.record_video(out_path=video_path, fps=2)\n",
    "HTML(f\"\"\"\n",
    "    <video alt=\"test\" controls>\n",
    "        <source src=\"{video_path}\" type=\"video/mp4\">\n",
    "    </video>\n",
    "\"\"\")"
   ],
   "metadata": {
    "collapsed": false,
    "pycharm": {
     "name": "#%%\n"
    }
   }
  },
  {
   "cell_type": "markdown",
   "source": [
    "### Non-slippery 8x8"
   ],
   "metadata": {
    "collapsed": false,
    "pycharm": {
     "name": "#%% md\n"
    }
   }
  },
  {
   "cell_type": "code",
   "execution_count": 47,
   "outputs": [
    {
     "data": {
      "text/plain": "<PIL.Image.Image image mode=RGB size=512x512>",
      "image/png": "[encoded data removed]"
     },
     "metadata": {},
     "output_type": "display_data"
    }
   ],
   "source": [
    "lake_8 = gym.make(\"FrozenLake-v1\", map_name=\"8x8\", is_slippery=False, render_mode=\"rgb_array\")\n",
    "ql_lake_8 = QLearningAgent(\n",
    "    env=lake_8,\n",
    "    lr=1.0,\n",
    "    gamma=0.99,\n",
    "    max_timesteps=2000,\n",
    "    jitter_sigma=1e-5,\n",
    "    eps_range=[1.0, 0.05],\n",
    "    eps_schedule=\"linear\",\n",
    "    eps_decay_rate=1e-4,\n",
    ")\n",
    "lake_8.reset()\n",
    "display(Image.fromarray(lake_8.render()))"
   ],
   "metadata": {
    "collapsed": false,
    "pycharm": {
     "name": "#%%\n"
    }
   }
  },
  {
   "cell_type": "code",
   "execution_count": 48,
   "outputs": [
    {
     "data": {
      "text/plain": "  0%|          | 0/2000 [00:00<?, ?it/s]",
      "application/vnd.jupyter.widget-view+json": {
       "version_major": 2,
       "version_minor": 0,
       "model_id": "61c3be1d92b34311b1ac0f068698fb09"
      }
     },
     "metadata": {},
     "output_type": "display_data"
    },
    {
     "name": "stdout",
     "output_type": "stream",
     "text": [
      "Epsilon: 0.95990\n",
      "Saving current Q-Table as checkpoint 'cp_13535'\n",
      "Current reward = 0.00 +- 0.00\n",
      "Epsilon: 0.91990\n",
      "Saving current Q-Table as checkpoint 'cp_26730'\n",
      "Current reward = 1.00 +- 0.00\n",
      "Epsilon: 0.87990\n",
      "Saving current Q-Table as checkpoint 'cp_38483'\n",
      "Current reward = 1.00 +- 0.00\n",
      "Epsilon: 0.83990\n",
      "Saving current Q-Table as checkpoint 'cp_49342'\n",
      "Current reward = 1.00 +- 0.00\n",
      "Training is over.\n",
      "Saving current Q-Table as checkpoint 'cp_59015'\n",
      "Current reward = 1.00 +- 0.00\n"
     ]
    }
   ],
   "source": [
    "ql_lake_8.train(num_episodes=2_000, episodes_per_checkpoint=400, seed=1)"
   ],
   "metadata": {
    "collapsed": false,
    "pycharm": {
     "name": "#%%\n"
    }
   }
  },
  {
   "cell_type": "code",
   "execution_count": 49,
   "outputs": [
    {
     "data": {
      "text/plain": "<IPython.core.display.HTML object>",
      "text/html": "\n    <video alt=\"test\" controls>\n        <source src=\"replays/frozen_lake/non_slippery8x8.mp4\" type=\"video/mp4\">\n    </video>\n"
     },
     "execution_count": 49,
     "metadata": {},
     "output_type": "execute_result"
    }
   ],
   "source": [
    "video_path = \"replays/frozen_lake/non_slippery8x8.mp4\"\n",
    "ql_lake_8.record_video(out_path=video_path, fps=2)\n",
    "HTML(f\"\"\"\n",
    "    <video alt=\"test\" controls>\n",
    "        <source src=\"{video_path}\" type=\"video/mp4\">\n",
    "    </video>\n",
    "\"\"\")"
   ],
   "metadata": {
    "collapsed": false,
    "pycharm": {
     "name": "#%%\n"
    }
   }
  },
  {
   "cell_type": "markdown",
   "source": [
    "### Slippery 8x8"
   ],
   "metadata": {
    "collapsed": false,
    "pycharm": {
     "name": "#%% md\n"
    }
   }
  },
  {
   "cell_type": "code",
   "execution_count": 50,
   "outputs": [],
   "source": [
    "lake_slippery_8 = gym.make(\"FrozenLake-v1\", map_name=\"8x8\", is_slippery=True, render_mode=\"rgb_array\")\n",
    "ql_lake_slippery_8 = QLearningAgent(\n",
    "    env=lake_slippery_8,\n",
    "    lr=0.5,\n",
    "    gamma=0.99,\n",
    "    max_timesteps=5_000,\n",
    "    jitter_sigma=1e-6,\n",
    "    eps_range=[1.0, 0.01],\n",
    "    eps_schedule=\"linear\",\n",
    "    eps_decay_rate=2e-4,\n",
    ")"
   ],
   "metadata": {
    "collapsed": false,
    "pycharm": {
     "name": "#%%\n"
    }
   }
  },
  {
   "cell_type": "code",
   "execution_count": 51,
   "outputs": [
    {
     "data": {
      "text/plain": "  0%|          | 0/10000 [00:00<?, ?it/s]",
      "application/vnd.jupyter.widget-view+json": {
       "version_major": 2,
       "version_minor": 0,
       "model_id": "e6e37214a218446e9697286f40956601"
      }
     },
     "metadata": {},
     "output_type": "display_data"
    },
    {
     "name": "stdout",
     "output_type": "stream",
     "text": [
      "Epsilon: 0.89980\n",
      "Saving current Q-Table as checkpoint 'cp_16814'\n",
      "Current reward = 0.09 +- 0.29\n",
      "Epsilon: 0.79980\n",
      "Saving current Q-Table as checkpoint 'cp_33976'\n",
      "Current reward = 0.08 +- 0.27\n",
      "Epsilon: 0.69980\n",
      "Saving current Q-Table as checkpoint 'cp_53065'\n",
      "Current reward = 0.15 +- 0.36\n",
      "Epsilon: 0.59980\n",
      "Saving current Q-Table as checkpoint 'cp_74084'\n",
      "Current reward = 0.36 +- 0.48\n",
      "Epsilon: 0.49980\n",
      "Saving current Q-Table as checkpoint 'cp_96337'\n",
      "Current reward = 0.52 +- 0.50\n",
      "Epsilon: 0.39980\n",
      "Saving current Q-Table as checkpoint 'cp_120641'\n",
      "Current reward = 0.50 +- 0.50\n",
      "Epsilon: 0.29980\n",
      "Saving current Q-Table as checkpoint 'cp_149671'\n",
      "Current reward = 0.51 +- 0.50\n",
      "Epsilon: 0.19980\n",
      "Saving current Q-Table as checkpoint 'cp_184142'\n",
      "Current reward = 0.95 +- 0.22\n",
      "Epsilon: 0.09980\n",
      "Saving current Q-Table as checkpoint 'cp_225997'\n",
      "Current reward = 0.37 +- 0.48\n",
      "Epsilon: 0.01000\n",
      "Saving current Q-Table as checkpoint 'cp_277763'\n",
      "Current reward = 0.98 +- 0.14\n",
      "Epsilon: 0.01000\n",
      "Saving current Q-Table as checkpoint 'cp_333183'\n",
      "Current reward = 0.97 +- 0.17\n",
      "Epsilon: 0.01000\n",
      "Saving current Q-Table as checkpoint 'cp_387465'\n",
      "Current reward = 0.96 +- 0.20\n",
      "Epsilon: 0.01000\n",
      "Saving current Q-Table as checkpoint 'cp_444291'\n",
      "Current reward = 0.88 +- 0.32\n",
      "Epsilon: 0.01000\n",
      "Saving current Q-Table as checkpoint 'cp_503920'\n",
      "Current reward = 0.88 +- 0.32\n",
      "Epsilon: 0.01000\n",
      "Saving current Q-Table as checkpoint 'cp_555509'\n",
      "Current reward = 0.93 +- 0.26\n",
      "Epsilon: 0.01000\n",
      "Saving current Q-Table as checkpoint 'cp_607026'\n",
      "Current reward = 0.94 +- 0.24\n",
      "Epsilon: 0.01000\n",
      "Saving current Q-Table as checkpoint 'cp_666594'\n",
      "Current reward = 0.91 +- 0.29\n",
      "Epsilon: 0.01000\n",
      "Saving current Q-Table as checkpoint 'cp_716981'\n",
      "Current reward = 0.77 +- 0.42\n",
      "Epsilon: 0.01000\n",
      "Saving current Q-Table as checkpoint 'cp_769413'\n",
      "Current reward = 0.92 +- 0.27\n",
      "Training is over.\n",
      "Saving current Q-Table as checkpoint 'cp_823122'\n",
      "Current reward = 0.49 +- 0.50\n"
     ]
    }
   ],
   "source": [
    "ql_lake_slippery_8.train(num_episodes=10_000, episodes_per_checkpoint=500, seed=1234)"
   ],
   "metadata": {
    "collapsed": false,
    "pycharm": {
     "name": "#%%\n"
    }
   }
  },
  {
   "cell_type": "code",
   "execution_count": 52,
   "outputs": [
    {
     "data": {
      "text/plain": "<IPython.core.display.HTML object>",
      "text/html": "\n    <video alt=\"test\" controls>\n        <source src=\"replays/frozen_lake/slippery8x8.mp4\" type=\"video/mp4\">\n    </video>\n"
     },
     "execution_count": 52,
     "metadata": {},
     "output_type": "execute_result"
    }
   ],
   "source": [
    "video_path = \"replays/frozen_lake/slippery8x8.mp4\"\n",
    "ql_lake_slippery_8.record_video(out_path=video_path, fps=4)\n",
    "HTML(f\"\"\"\n",
    "    <video alt=\"test\" controls>\n",
    "        <source src=\"{video_path}\" type=\"video/mp4\">\n",
    "    </video>\n",
    "\"\"\")"
   ],
   "metadata": {
    "collapsed": false,
    "pycharm": {
     "name": "#%%\n"
    }
   }
  },
  {
   "cell_type": "markdown",
   "source": [
    "# Taxi"
   ],
   "metadata": {
    "collapsed": false,
    "pycharm": {
     "name": "#%% md\n"
    }
   }
  },
  {
   "cell_type": "code",
   "execution_count": 62,
   "outputs": [
    {
     "data": {
      "text/plain": "<PIL.Image.Image image mode=RGB size=550x350>",
      "image/png": "[encoded data removed]"
     },
     "metadata": {},
     "output_type": "display_data"
    }
   ],
   "source": [
    "taxi = gym.make(\"Taxi-v3\", render_mode=\"rgb_array\")\n",
    "taxi.reset()\n",
    "display(Image.fromarray(taxi.render()))"
   ],
   "metadata": {
    "collapsed": false,
    "pycharm": {
     "name": "#%%\n"
    }
   }
  },
  {
   "cell_type": "markdown",
   "source": [
    "## Basic QL agent"
   ],
   "metadata": {
    "collapsed": false,
    "pycharm": {
     "name": "#%% md\n"
    }
   }
  },
  {
   "cell_type": "code",
   "execution_count": 63,
   "outputs": [],
   "source": [
    "basic_ql_taxi = QLearningAgent(\n",
    "    env=taxi,\n",
    "    lr=0.3,\n",
    "    gamma=0.999,\n",
    "    max_timesteps=250,\n",
    "    jitter_sigma=1e-6,\n",
    "    eps_range=[1.0, 0.01],\n",
    "    eps_schedule=\"exponential\",\n",
    "    eps_decay_rate=1e-4,\n",
    ")"
   ],
   "metadata": {
    "collapsed": false,
    "pycharm": {
     "name": "#%%\n"
    }
   }
  },
  {
   "cell_type": "code",
   "execution_count": 64,
   "outputs": [
    {
     "data": {
      "text/plain": "  0%|          | 0/700 [00:00<?, ?it/s]",
      "application/vnd.jupyter.widget-view+json": {
       "version_major": 2,
       "version_minor": 0,
       "model_id": "810aae6e30774d85b1ac81b1dabcb18c"
      }
     },
     "metadata": {},
     "output_type": "display_data"
    },
    {
     "name": "stdout",
     "output_type": "stream",
     "text": [
      "Epsilon: 0.99491\n",
      "Saving current Q-Table as checkpoint 'cp_12095'\n",
      "Current reward = -809.80 +- 969.62\n",
      "Epsilon: 0.98995\n",
      "Saving current Q-Table as checkpoint 'cp_24595'\n",
      "Current reward = -250.00 +- 0.00\n",
      "Epsilon: 0.98501\n",
      "Saving current Q-Table as checkpoint 'cp_36525'\n",
      "Current reward = -313.79 +- 379.05\n",
      "Epsilon: 0.98010\n",
      "Saving current Q-Table as checkpoint 'cp_48747'\n",
      "Current reward = -300.20 +- 382.44\n",
      "Epsilon: 0.97521\n",
      "Saving current Q-Table as checkpoint 'cp_61172'\n",
      "Current reward = -210.94 +- 92.98\n",
      "Epsilon: 0.97035\n",
      "Saving current Q-Table as checkpoint 'cp_72494'\n",
      "Current reward = -200.49 +- 102.23\n",
      "Epsilon: 0.96551\n",
      "Saving current Q-Table as checkpoint 'cp_84109'\n",
      "Current reward = -125.46 +- 129.63\n",
      "Epsilon: 0.96069\n",
      "Saving current Q-Table as checkpoint 'cp_95615'\n",
      "Current reward = -94.43 +- 127.03\n",
      "Epsilon: 0.95590\n",
      "Saving current Q-Table as checkpoint 'cp_106999'\n",
      "Current reward = -60.88 +- 115.04\n",
      "Epsilon: 0.95113\n",
      "Saving current Q-Table as checkpoint 'cp_118441'\n",
      "Current reward = -41.09 +- 101.21\n",
      "Epsilon: 0.94639\n",
      "Saving current Q-Table as checkpoint 'cp_129972'\n",
      "Current reward = -2.10 +- 50.67\n",
      "Epsilon: 0.94167\n",
      "Saving current Q-Table as checkpoint 'cp_140494'\n",
      "Current reward = -12.62 +- 70.04\n",
      "Epsilon: 0.93697\n",
      "Saving current Q-Table as checkpoint 'cp_150807'\n",
      "Current reward = 7.88 +- 2.52\n",
      "Training is over.\n",
      "Saving current Q-Table as checkpoint 'cp_160990'\n",
      "Current reward = 7.92 +- 2.42\n"
     ]
    }
   ],
   "source": [
    "basic_ql_taxi.train(num_episodes=700, episodes_per_checkpoint=50, seed=1234)"
   ],
   "metadata": {
    "collapsed": false,
    "pycharm": {
     "name": "#%%\n"
    }
   }
  },
  {
   "cell_type": "code",
   "execution_count": 65,
   "outputs": [
    {
     "name": "stderr",
     "output_type": "stream",
     "text": [
      "IMAGEIO FFMPEG_WRITER WARNING: input image is not divisible by macro_block_size=16, resizing from (550, 350) to (560, 352) to ensure video compatibility with most codecs and players. To prevent resizing, make your input image divisible by the macro_block_size or set the macro_block_size to 1 (risking incompatibility).\n"
     ]
    },
    {
     "data": {
      "text/plain": "<IPython.core.display.HTML object>",
      "text/html": "\n    <video alt=\"test\" controls>\n        <source src=\"replays/taxi/basic_ql.mp4\" type=\"video/mp4\">\n    </video>\n"
     },
     "execution_count": 65,
     "metadata": {},
     "output_type": "execute_result"
    }
   ],
   "source": [
    "video_path = \"replays/taxi/basic_ql.mp4\"\n",
    "basic_ql_taxi.record_video(out_path=video_path, fps=4)\n",
    "HTML(f\"\"\"\n",
    "    <video alt=\"test\" controls>\n",
    "        <source src=\"{video_path}\" type=\"video/mp4\">\n",
    "    </video>\n",
    "\"\"\")"
   ],
   "metadata": {
    "collapsed": false,
    "pycharm": {
     "name": "#%%\n"
    }
   }
  },
  {
   "cell_type": "markdown",
   "source": [
    "## Smarter QL Taxi\n",
    "This QL agent only outputs valid action at any timestep, which prunes the search space."
   ],
   "metadata": {
    "collapsed": false,
    "pycharm": {
     "name": "#%% md\n"
    }
   }
  },
  {
   "cell_type": "code",
   "execution_count": 66,
   "outputs": [],
   "source": [
    "smarter_ql_taxi = QLearningTaxi(\n",
    "    env=taxi,\n",
    "    lr=0.3,\n",
    "    gamma=0.999,\n",
    "    max_timesteps=250,\n",
    "    jitter_sigma=1e-6,\n",
    "    eps_range=[1.0, 0.01],\n",
    "    eps_schedule=\"exponential\",\n",
    "    eps_decay_rate=1e-4,\n",
    ")"
   ],
   "metadata": {
    "collapsed": false,
    "pycharm": {
     "name": "#%%\n"
    }
   }
  },
  {
   "cell_type": "code",
   "execution_count": 67,
   "outputs": [
    {
     "data": {
      "text/plain": "  0%|          | 0/700 [00:00<?, ?it/s]",
      "application/vnd.jupyter.widget-view+json": {
       "version_major": 2,
       "version_minor": 0,
       "model_id": "9db4080a011e4b3c8a40ef419bd80619"
      }
     },
     "metadata": {},
     "output_type": "display_data"
    },
    {
     "name": "stdout",
     "output_type": "stream",
     "text": [
      "Epsilon: 0.99491\n",
      "Saving current Q-Table as checkpoint 'cp_11944'\n",
      "Current reward = -250.00 +- 0.00\n",
      "Epsilon: 0.98995\n",
      "Saving current Q-Table as checkpoint 'cp_23835'\n",
      "Current reward = -244.72 +- 36.96\n",
      "Epsilon: 0.98501\n",
      "Saving current Q-Table as checkpoint 'cp_35980'\n",
      "Current reward = -236.98 +- 56.75\n",
      "Epsilon: 0.98010\n",
      "Saving current Q-Table as checkpoint 'cp_47187'\n",
      "Current reward = -187.47 +- 111.28\n",
      "Epsilon: 0.97521\n",
      "Saving current Q-Table as checkpoint 'cp_58473'\n",
      "Current reward = -179.65 +- 115.68\n",
      "Epsilon: 0.97035\n",
      "Saving current Q-Table as checkpoint 'cp_70233'\n",
      "Current reward = -164.44 +- 121.92\n",
      "Epsilon: 0.96551\n",
      "Saving current Q-Table as checkpoint 'cp_80688'\n",
      "Current reward = -128.39 +- 129.15\n",
      "Epsilon: 0.96069\n",
      "Saving current Q-Table as checkpoint 'cp_90976'\n",
      "Current reward = -48.60 +- 106.99\n",
      "Epsilon: 0.95590\n",
      "Saving current Q-Table as checkpoint 'cp_101411'\n",
      "Current reward = -17.14 +- 77.67\n",
      "Epsilon: 0.95113\n",
      "Saving current Q-Table as checkpoint 'cp_112061'\n",
      "Current reward = -12.60 +- 70.04\n",
      "Epsilon: 0.94639\n",
      "Saving current Q-Table as checkpoint 'cp_122164'\n",
      "Current reward = 8.05 +- 2.53\n",
      "Epsilon: 0.94167\n",
      "Saving current Q-Table as checkpoint 'cp_132496'\n",
      "Current reward = 7.55 +- 2.64\n",
      "Epsilon: 0.93697\n",
      "Saving current Q-Table as checkpoint 'cp_141893'\n",
      "Current reward = 7.88 +- 2.52\n",
      "Training is over.\n",
      "Saving current Q-Table as checkpoint 'cp_151378'\n",
      "Current reward = 7.80 +- 2.36\n"
     ]
    }
   ],
   "source": [
    "smarter_ql_taxi.train(num_episodes=700, episodes_per_checkpoint=50, seed=1234)"
   ],
   "metadata": {
    "collapsed": false,
    "pycharm": {
     "name": "#%%\n"
    }
   }
  },
  {
   "cell_type": "code",
   "execution_count": 68,
   "outputs": [
    {
     "name": "stderr",
     "output_type": "stream",
     "text": [
      "IMAGEIO FFMPEG_WRITER WARNING: input image is not divisible by macro_block_size=16, resizing from (550, 350) to (560, 352) to ensure video compatibility with most codecs and players. To prevent resizing, make your input image divisible by the macro_block_size or set the macro_block_size to 1 (risking incompatibility).\n"
     ]
    },
    {
     "data": {
      "text/plain": "<IPython.core.display.HTML object>",
      "text/html": "\n    <video alt=\"test\" controls>\n        <source src=\"replays/taxi/smarter_ql.mp4\" type=\"video/mp4\">\n    </video>\n"
     },
     "execution_count": 68,
     "metadata": {},
     "output_type": "execute_result"
    }
   ],
   "source": [
    "video_path = \"replays/taxi/smarter_ql.mp4\"\n",
    "basic_ql_taxi.record_video(out_path=video_path, fps=4)\n",
    "HTML(f\"\"\"\n",
    "    <video alt=\"test\" controls>\n",
    "        <source src=\"{video_path}\" type=\"video/mp4\">\n",
    "    </video>\n",
    "\"\"\")"
   ],
   "metadata": {
    "collapsed": false,
    "pycharm": {
     "name": "#%%\n"
    }
   }
  },
  {
   "cell_type": "code",
   "execution_count": 69,
   "outputs": [],
   "source": [
    "import matplotlib.pyplot as plt\n",
    "import numpy as np"
   ],
   "metadata": {
    "collapsed": false,
    "pycharm": {
     "name": "#%%\n"
    }
   }
  },
  {
   "cell_type": "code",
   "execution_count": 70,
   "outputs": [
    {
     "data": {
      "text/plain": "<Figure size 640x480 with 1 Axes>",
      "image/png": "[encoded data removed]"
     },
     "metadata": {},
     "output_type": "display_data"
    }
   ],
   "source": [
    "means1 = []\n",
    "means2 = []\n",
    "stds1 = []\n",
    "stds2 = []\n",
    "\n",
    "for cp1, cp2 in zip(basic_ql_taxi.get_checkpoints_keys(), smarter_ql_taxi.get_checkpoints_keys()):\n",
    "    mean1, std1 = basic_ql_taxi.evaluate_agent(n_eval_episodes=100, seed=1, cp=cp1)\n",
    "    mean2, std2 = smarter_ql_taxi.evaluate_agent(n_eval_episodes=100, seed=1, cp=cp2)\n",
    "    means1.append(mean1)\n",
    "    means2.append(mean2)\n",
    "    stds1.append(std1)\n",
    "    stds2.append(std2)\n",
    "\n",
    "plt.plot(means1, c=\"blue\")\n",
    "plt.plot(np.array(means1) - np.array(stds1), c=\"blue\", linestyle=\"--\")\n",
    "plt.plot(np.array(means1) + np.array(stds1), c=\"blue\", linestyle=\"--\")\n",
    "\n",
    "plt.plot(means2, c=\"green\")\n",
    "plt.plot(np.array(means2) - np.array(stds2), c=\"green\", linestyle=\"--\")\n",
    "plt.plot(np.array(means2) + np.array(stds2), c=\"green\", linestyle=\"--\")\n",
    "\n",
    "plt.show()"
   ],
   "metadata": {
    "collapsed": false,
    "pycharm": {
     "name": "#%%\n"
    }
   }
  },
  {
   "cell_type": "markdown",
   "source": [
    "The \"smarter\" agent has a stable training from the beginning on, whereas the basic agent's training is very chaotic in the first checkpoints."
   ],
   "metadata": {
    "collapsed": false,
    "pycharm": {
     "name": "#%% md\n"
    }
   }
  }
 ],
 "metadata": {
  "kernelspec": {
   "display_name": "Python 3",
   "language": "python",
   "name": "python3"
  },
  "language_info": {
   "codemirror_mode": {
    "name": "ipython",
    "version": 2
   },
   "file_extension": ".py",
   "mimetype": "text/x-python",
   "name": "python",
   "nbconvert_exporter": "python",
   "pygments_lexer": "ipython2",
   "version": "2.7.6"
  }
 },
 "nbformat": 4,
 "nbformat_minor": 0
}